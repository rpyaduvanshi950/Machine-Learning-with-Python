{
 "cells": [
  {
   "cell_type": "code",
   "execution_count": 9,
   "id": "68e5e7f4-e084-4e9e-9c46-646fcdb3bb2b",
   "metadata": {},
   "outputs": [],
   "source": [
    "import pandas as pd\n",
    "from sklearn.model_selection import train_test_split\n",
    "from sklearn.preprocessing import StandardScaler\n",
    "from sklearn.linear_model import LogisticRegression\n",
    "from sklearn.metrics import accuracy_score, f1_score\n",
    "from sklearn.neighbors import KNeighborsClassifier\n",
    "from sklearn.tree import DecisionTreeClassifier\n",
    "from sklearn.tree import DecisionTreeClassifier\n",
    "\n",
    "\n",
    "wine_data = pd.read_csv('winequality-red.csv')\n",
    "wine_data['good_quality'] = (wine_data['quality'] >= 7).astype(int)\n",
    "wine_data = wine_data.drop('quality', axis=1)"
   ]
  },
  {
   "cell_type": "code",
   "execution_count": 10,
   "id": "2def7e48-2f52-4a7d-806e-fd5aa48df3a0",
   "metadata": {},
   "outputs": [],
   "source": [
    "X = wine_data.drop('good_quality', axis=1)\n",
    "y = wine_data['good_quality']\n",
    "X_train, X_test, y_train, y_test = train_test_split(X, y, test_size=0.2, random_state=42)\n",
    "scaler = StandardScaler()\n",
    "X_train = scaler.fit_transform(X_train)\n",
    "X_test = scaler.transform(X_test)\n"
   ]
  },
  {
   "cell_type": "code",
   "execution_count": 11,
   "id": "937da49f-2a57-4a32-8618-85423b2926d9",
   "metadata": {},
   "outputs": [
    {
     "name": "stdout",
     "output_type": "stream",
     "text": [
      "Logistic Regression Accuracy: 0.865625\n",
      "Logistic Regression F1 Score: 0.37681159420289856\n"
     ]
    }
   ],
   "source": [
    "log_reg = LogisticRegression()\n",
    "log_reg.fit(X_train, y_train)\n",
    "\n",
    "y_pred_log_reg = log_reg.predict(X_test)\n",
    "\n",
    "accuracy_log_reg = accuracy_score(y_test, y_pred_log_reg)\n",
    "f1_log_reg = f1_score(y_test, y_pred_log_reg)\n",
    "\n",
    "print(\"Logistic Regression Accuracy:\", accuracy_log_reg)\n",
    "print(\"Logistic Regression F1 Score:\", f1_log_reg)\n"
   ]
  },
  {
   "cell_type": "code",
   "execution_count": 12,
   "id": "4420618e-dc94-4d7a-afe2-4efbd24b81a0",
   "metadata": {},
   "outputs": [
    {
     "name": "stdout",
     "output_type": "stream",
     "text": [
      "K-Nearest Neighbors Accuracy: 0.88125\n",
      "K-Nearest Neighbors F1 Score: 0.5128205128205128\n"
     ]
    }
   ],
   "source": [
    "knn = KNeighborsClassifier()\n",
    "knn.fit(X_train, y_train)\n",
    "\n",
    "y_pred_knn = knn.predict(X_test)\n",
    "\n",
    "accuracy_knn = accuracy_score(y_test, y_pred_knn)\n",
    "f1_knn = f1_score(y_test, y_pred_knn)\n",
    "\n",
    "print(\"K-Nearest Neighbors Accuracy:\", accuracy_knn)\n",
    "print(\"K-Nearest Neighbors F1 Score:\", f1_knn)\n"
   ]
  },
  {
   "cell_type": "code",
   "execution_count": 13,
   "id": "c3e6bdbe-bade-4da6-b88c-cc6bb6eea62b",
   "metadata": {},
   "outputs": [
    {
     "name": "stdout",
     "output_type": "stream",
     "text": [
      "Decision Trees Accuracy: 0.884375\n",
      "Decision Trees F1 Score: 0.5842696629213483\n"
     ]
    }
   ],
   "source": [
    "dt_classifier = DecisionTreeClassifier()\n",
    "dt_classifier.fit(X_train, y_train)\n",
    "\n",
    "y_pred_dt = dt_classifier.predict(X_test)\n",
    "\n",
    "accuracy_dt = accuracy_score(y_test, y_pred_dt)\n",
    "f1_dt = f1_score(y_test, y_pred_dt)\n",
    "\n",
    "print(\"Decision Trees Accuracy:\", accuracy_dt)\n",
    "print(\"Decision Trees F1 Score:\", f1_dt)\n"
   ]
  },
  {
   "cell_type": "code",
   "execution_count": 14,
   "id": "acf7b931-2dba-44de-96c3-44a1b747bfc6",
   "metadata": {},
   "outputs": [
    {
     "name": "stdout",
     "output_type": "stream",
     "text": [
      "Decision Trees Accuracy: 0.88125\n",
      "Decision Trees F1 Score: 0.5957446808510638\n"
     ]
    }
   ],
   "source": [
    "dt_classifier = DecisionTreeClassifier()\n",
    "dt_classifier.fit(X_train, y_train)\n",
    "\n",
    "y_pred_dt = dt_classifier.predict(X_test)\n",
    "\n",
    "accuracy_dt = accuracy_score(y_test, y_pred_dt)\n",
    "f1_dt = f1_score(y_test, y_pred_dt)\n",
    "\n",
    "print(\"Decision Trees Accuracy:\", accuracy_dt)\n",
    "print(\"Decision Trees F1 Score:\", f1_dt)\n"
   ]
  },
  {
   "cell_type": "code",
   "execution_count": 15,
   "id": "e4a54545-270d-4438-9d80-b3cbc5169257",
   "metadata": {},
   "outputs": [
    {
     "name": "stdout",
     "output_type": "stream",
     "text": [
      "Random Forest Accuracy: 0.90625\n",
      "Random Forest F1 Score: 0.625\n"
     ]
    }
   ],
   "source": [
    "from sklearn.ensemble import RandomForestClassifier\n",
    "\n",
    "rf_classifier = RandomForestClassifier()\n",
    "rf_classifier.fit(X_train, y_train)\n",
    "y_pred_rf = rf_classifier.predict(X_test)\n",
    "accuracy_rf = accuracy_score(y_test, y_pred_rf)\n",
    "f1_rf = f1_score(y_test, y_pred_rf)\n",
    "print(\"Random Forest Accuracy:\", accuracy_rf)\n",
    "print(\"Random Forest F1 Score:\", f1_rf)\n"
   ]
  },
  {
   "cell_type": "code",
   "execution_count": null,
   "id": "1594b8bd-a280-4269-be6d-0641b18045cd",
   "metadata": {},
   "outputs": [],
   "source": []
  },
  {
   "cell_type": "code",
   "execution_count": null,
   "id": "e5866497-d49b-41fb-9b98-86662c6950e0",
   "metadata": {},
   "outputs": [],
   "source": []
  }
 ],
 "metadata": {
  "kernelspec": {
   "display_name": "Python 3 (ipykernel)",
   "language": "python",
   "name": "python3"
  },
  "language_info": {
   "codemirror_mode": {
    "name": "ipython",
    "version": 3
   },
   "file_extension": ".py",
   "mimetype": "text/x-python",
   "name": "python",
   "nbconvert_exporter": "python",
   "pygments_lexer": "ipython3",
   "version": "3.12.1"
  }
 },
 "nbformat": 4,
 "nbformat_minor": 5
}
