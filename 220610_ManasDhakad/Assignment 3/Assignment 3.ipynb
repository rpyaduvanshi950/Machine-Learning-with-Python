{
 "cells": [
  {
   "cell_type": "code",
   "execution_count": 65,
   "id": "afec84a9-e4fb-4a4f-b972-8118c9c2a797",
   "metadata": {},
   "outputs": [],
   "source": [
    "import numpy as np\n",
    "import pandas as pd\n",
    "import matplotlib.pyplot as plt\n",
    "\n",
    "\n",
    "red_wine_data = pd.read_csv('red.csv')\n",
    "\n",
    "# Creating new column\n",
    "red_wine_data['good_quality'] = red_wine_data['quality'].apply(lambda x: 1 if x >= 7 else 0)\n",
    "\n",
    "red_wine_data = red_wine_data.drop('quality', axis=1)\n",
    "\n"
   ]
  },
  {
   "cell_type": "code",
   "execution_count": 66,
   "id": "2519851e-3d48-4ac0-9c78-ccae6f1e346c",
   "metadata": {},
   "outputs": [
    {
     "name": "stdout",
     "output_type": "stream",
     "text": [
      "[[ 0.21833164  0.88971201  0.19209222 ...  1.09349989  0.45822284\n",
      "   1.12317723]\n",
      " [-1.29016623 -1.78878251  0.65275338 ... -0.40043872 -0.40119696\n",
      "   1.40827174]\n",
      " [ 1.49475291 -0.78434707  1.01104539 ... -0.07566946  0.51551749\n",
      "  -0.58738978]\n",
      " ...\n",
      " [-0.65195559  0.49909822 -1.08752211 ...  1.28836145 -0.68767023\n",
      "  -0.87248428]\n",
      " [-0.24582155 -1.84458448  0.39683051 ...  0.05423824  0.80199076\n",
      "   1.40827174]\n",
      " [-1.46422367 -1.34236676 -0.06383064 ...  0.50891521 -0.68767023\n",
      "   2.92877575]]\n",
      "493     0\n",
      "354     0\n",
      "342     0\n",
      "834     0\n",
      "705     0\n",
      "       ..\n",
      "1130    0\n",
      "1294    0\n",
      "860     0\n",
      "1459    1\n",
      "1126    0\n",
      "Name: good_quality, Length: 1279, dtype: int64\n"
     ]
    }
   ],
   "source": [
    "from sklearn.model_selection import train_test_split\n",
    "from sklearn.preprocessing import StandardScaler\n",
    "\n",
    "X = red_wine_data.drop('good_quality', axis=1)\n",
    "y = red_wine_data['good_quality']\n",
    "\n",
    "# Spliting data\n",
    "X_train, X_test, y_train, y_test = train_test_split(X, y, test_size=0.2, random_state=42)\n",
    "\n",
    "# data pre-processing\n",
    "scaler = StandardScaler()\n",
    "X_train = scaler.fit_transform(X_train)\n",
    "X_test = scaler.transform(X_test)\n",
    "\n",
    "print(X_train)\n",
    "print(y_train)"
   ]
  },
  {
   "cell_type": "markdown",
   "id": "ed3b1cc0-c424-4a53-9871-d5b0d680b575",
   "metadata": {},
   "source": [
    "LOGISTIC REGRESSION"
   ]
  },
  {
   "cell_type": "code",
   "execution_count": 67,
   "id": "0ff5b099-9f39-4e39-a49e-faace331309a",
   "metadata": {},
   "outputs": [
    {
     "name": "stdout",
     "output_type": "stream",
     "text": [
      "Logistic Regression Accuracy: 0.865625\n",
      "Logistic Regression F1 Score: 0.37681159420289856\n"
     ]
    }
   ],
   "source": [
    "from sklearn.linear_model import LogisticRegression\n",
    "from sklearn.metrics import accuracy_score, f1_score\n",
    "\n",
    "\n",
    "logistic_model = LogisticRegression(random_state=45)\n",
    "\n",
    "# train\n",
    "logistic_model.fit(X_train, y_train)\n",
    "\n",
    "# predict\n",
    "logistic_predictions = logistic_model.predict(X_test)\n",
    "\n",
    "# checking accuracy\n",
    "logistic_accuracy = accuracy_score(y_test, logistic_predictions)\n",
    "logistic_f1_score = f1_score(y_test, logistic_predictions)\n",
    "\n",
    "print(\"Logistic Regression Accuracy:\", logistic_accuracy)\n",
    "print(\"Logistic Regression F1 Score:\", logistic_f1_score)\n"
   ]
  },
  {
   "cell_type": "markdown",
   "id": "0199d6cc-b327-47c9-ab57-d8ae60f545a0",
   "metadata": {},
   "source": [
    "KNN"
   ]
  },
  {
   "cell_type": "code",
   "execution_count": 68,
   "id": "850fc60f-728e-4ed2-8b1a-05e4d82cc526",
   "metadata": {},
   "outputs": [
    {
     "name": "stdout",
     "output_type": "stream",
     "text": [
      "K-Nearest Neighbors Accuracy: 0.88125\n",
      "K-Nearest Neighbors F1 Score: 0.5128205128205128\n"
     ]
    }
   ],
   "source": [
    "from sklearn.neighbors import KNeighborsClassifier\n",
    "\n",
    "knn_model = KNeighborsClassifier()\n",
    "\n",
    "# train\n",
    "knn_model.fit(X_train, y_train)\n",
    "\n",
    "# predict\n",
    "knn_predictions = knn_model.predict(X_test)\n",
    "\n",
    "# checking accuracy\n",
    "knn_accuracy = accuracy_score(y_test, knn_predictions)\n",
    "knn_f1_score = f1_score(y_test, knn_predictions)\n",
    "\n",
    "print(\"K-Nearest Neighbors Accuracy:\", knn_accuracy)\n",
    "print(\"K-Nearest Neighbors F1 Score:\", knn_f1_score)\n"
   ]
  },
  {
   "cell_type": "markdown",
   "id": "943455d2-e025-4c9e-af2f-9a25489f5021",
   "metadata": {},
   "source": [
    "DECISION TREE CLASSIFIER"
   ]
  },
  {
   "cell_type": "code",
   "execution_count": 69,
   "id": "d13bf097-6c18-43be-91d2-3dff62c05423",
   "metadata": {},
   "outputs": [
    {
     "name": "stdout",
     "output_type": "stream",
     "text": [
      "Decision Trees Accuracy: 0.8875\n",
      "Decision Trees F1 Score: 0.6170212765957447\n"
     ]
    }
   ],
   "source": [
    "from sklearn.tree import DecisionTreeClassifier\n",
    "\n",
    "\n",
    "dt_model = DecisionTreeClassifier(random_state=28)\n",
    "\n",
    "# train\n",
    "dt_model.fit(X_train, y_train)\n",
    "\n",
    "# predict\n",
    "dt_predictions = dt_model.predict(X_test)\n",
    "\n",
    "# checking accuracy\n",
    "dt_accuracy = accuracy_score(y_test, dt_predictions)\n",
    "dt_f1_score = f1_score(y_test, dt_predictions)\n",
    "\n",
    "print(\"Decision Trees Accuracy:\", dt_accuracy)\n",
    "print(\"Decision Trees F1 Score:\", dt_f1_score)\n"
   ]
  },
  {
   "cell_type": "markdown",
   "id": "287a7821-da70-4d5b-809e-c41ea5fa9981",
   "metadata": {},
   "source": [
    "RANDOM FOREST"
   ]
  },
  {
   "cell_type": "code",
   "execution_count": 70,
   "id": "98b02f8b-92b3-47dc-9ec2-e3b899ebd20a",
   "metadata": {},
   "outputs": [
    {
     "name": "stdout",
     "output_type": "stream",
     "text": [
      "Random Forest Accuracy: 0.915625\n",
      "Random Forest F1 Score: 0.6666666666666666\n"
     ]
    }
   ],
   "source": [
    "from sklearn.ensemble import RandomForestClassifier\n",
    "\n",
    "rf_model = RandomForestClassifier(random_state=92)\n",
    "\n",
    "# training\n",
    "rf_model.fit(X_train, y_train)\n",
    "\n",
    "# predict\n",
    "rf_predictions = rf_model.predict(X_test)\n",
    "\n",
    "# checking accuracy\n",
    "rf_accuracy = accuracy_score(y_test, rf_predictions)\n",
    "rf_f1_score = f1_score(y_test, rf_predictions)\n",
    "\n",
    "print(\"Random Forest Accuracy:\", rf_accuracy)\n",
    "print(\"Random Forest F1 Score:\", rf_f1_score)\n"
   ]
  },
  {
   "cell_type": "markdown",
   "id": "e887aa91-fa3a-477b-9edc-4031d88a75dd",
   "metadata": {},
   "source": [
    "LOGESTIC REGRESSIION FROM SCRATCH"
   ]
  },
  {
   "cell_type": "code",
   "execution_count": 71,
   "id": "3a72f0c8-f834-4b7a-9495-21e524ef09a7",
   "metadata": {},
   "outputs": [
    {
     "name": "stdout",
     "output_type": "stream",
     "text": [
      "Shape of X_train :  (1279, 11)\n",
      "Shape of Y_train :  (1279,)\n",
      "Shape of X_test :  (320, 11)\n",
      "Shape of Y_test :  (320,)\n"
     ]
    }
   ],
   "source": [
    "X_train = np.array(X_train)\n",
    "y_train = np.array(y_train)\n",
    "X_test = np.array(X_test)\n",
    "y_test = np.array(y_test)\n",
    "\n",
    "print(\"Shape of X_train : \", X_train.shape)\n",
    "print(\"Shape of Y_train : \", y_train.shape)\n",
    "print(\"Shape of X_test : \", X_test.shape)\n",
    "print(\"Shape of Y_test : \", y_test.shape)\n"
   ]
  },
  {
   "cell_type": "code",
   "execution_count": 73,
   "id": "f580f08f-d3a6-4e2c-b087-93535cad0c25",
   "metadata": {},
   "outputs": [],
   "source": [
    "X_tr=X_train.T\n",
    "X_te=X_test.T\n",
    "y_tr=y_train.reshape(1,X_train.shape[0])\n",
    "y_te=y_test.reshape(1,X_test.shape[0])"
   ]
  },
  {
   "cell_type": "code",
   "execution_count": 74,
   "id": "d6b2d652-8e40-40ce-89e7-987929b316df",
   "metadata": {},
   "outputs": [
    {
     "name": "stdout",
     "output_type": "stream",
     "text": [
      "Shape of new X_train :  (11, 1279)\n",
      "Shape of new Y_train :  (1, 1279)\n",
      "Shape of new X_test :  (11, 320)\n",
      "Shape of new Y_test :  (1, 320)\n"
     ]
    }
   ],
   "source": [
    "print(\"Shape of new X_train : \", X_tr.shape)\n",
    "print(\"Shape of new Y_train : \", y_tr.shape)\n",
    "print(\"Shape of new X_test : \", X_te.shape)\n",
    "print(\"Shape of new Y_test : \", y_te.shape)"
   ]
  },
  {
   "cell_type": "code",
   "execution_count": 34,
   "id": "0797264b-3611-4560-b716-bcb1b01e3b1d",
   "metadata": {},
   "outputs": [],
   "source": [
    "def sigmoid(x):\n",
    " return 1/(1 + np.exp(-x))"
   ]
  },
  {
   "cell_type": "code",
   "execution_count": 76,
   "id": "d4ae38fb-5b22-46f0-b77f-7c47f1db2f44",
   "metadata": {},
   "outputs": [],
   "source": [
    "def model(X, Y, learning_rate, iterations):\n",
    " \n",
    " m = X_tr.shape[1]\n",
    " n = X_tr.shape[0]\n",
    " \n",
    " W = np.zeros((n,1))\n",
    " B = 0\n",
    " \n",
    " L=[]\n",
    " \n",
    " for i in range(iterations):\n",
    " \n",
    "    Z = np.dot(W.T, X) + B\n",
    "    y_p = sigmoid(Z)\n",
    " \n",
    "    # cost function\n",
    "    cost = -(1/m)*np.sum( Y*np.log(y_p) + (1-Y*np.log(1-y_p)))\n",
    " \n",
    "    # Gradient Descent\n",
    "    dW = (1/m)*np.dot(y_p-Y, X.T)\n",
    "    dB = (1/m)*np.sum(y_p - Y)\n",
    " \n",
    "    W = W - learning_rate*dW.T\n",
    "    B = B - learning_rate*dB\n",
    " \n",
    "    L.append(cost)\n",
    "    if(i%(iterations/10) == 0):\n",
    "        print(\"cost after \", i, \"iteration is : \", cost)\n",
    " \n",
    " return W, B,L"
   ]
  },
  {
   "cell_type": "code",
   "execution_count": 87,
   "id": "c39ed3dc-7159-4df5-9f0f-3a13615b11ad",
   "metadata": {},
   "outputs": [
    {
     "name": "stdout",
     "output_type": "stream",
     "text": [
      "cost after  0 iteration is :  -1.0\n",
      "cost after  10000 iteration is :  -0.9093368867305727\n",
      "cost after  20000 iteration is :  -0.9079938171777705\n",
      "cost after  30000 iteration is :  -0.9078598859112298\n",
      "cost after  40000 iteration is :  -0.9078607842985239\n",
      "cost after  50000 iteration is :  -0.9078777719860124\n",
      "cost after  60000 iteration is :  -0.9078938226871985\n",
      "cost after  70000 iteration is :  -0.9079065846056359\n",
      "cost after  80000 iteration is :  -0.9079162415545965\n",
      "cost after  90000 iteration is :  -0.9079234022279965\n"
     ]
    }
   ],
   "source": [
    "iteration = 100000\n",
    "learning_rate = 0.0055\n",
    "W, B,L = model(X_tr, y_tr, learning_rate, iteration)"
   ]
  },
  {
   "cell_type": "markdown",
   "id": "9274e7eb-ab83-4d99-86cf-59d4b852efea",
   "metadata": {},
   "source": [
    "Cost vs iteration"
   ]
  },
  {
   "cell_type": "code",
   "execution_count": 88,
   "id": "e80f7c50-3909-4325-9b11-bae7c1cba50b",
   "metadata": {},
   "outputs": [
    {
     "data": {
      "image/png": "[encoded data removed]",
      "text/plain": [
       "<Figure size 640x480 with 1 Axes>"
      ]
     },
     "metadata": {},
     "output_type": "display_data"
    }
   ],
   "source": [
    "plt.plot(np.arange(iterations),L)\n",
    "plt.show()"
   ]
  },
  {
   "cell_type": "code",
   "execution_count": 89,
   "id": "236f49a9-cfeb-4cd8-917f-dad197642590",
   "metadata": {},
   "outputs": [],
   "source": [
    "def accuracy(X, Y, W, B):\n",
    " \n",
    "  Z = np.dot(W.T, X) + B\n",
    "  predection = sigmoid(Z)\n",
    " #boolean\n",
    "  A = predection > 0.5\n",
    " \n",
    "  A = np.array(A, dtype = 'int64')\n",
    " \n",
    "  acc = (1 - np.sum(np.absolute(A - Y))/Y.shape[1])*100\n",
    " \n",
    "  print(\"Accuracy of the model is : \", round(acc, 2), \"%\")\n",
    "  TP = np.sum((A == 1) & (Y == 1))\n",
    "  FP = np.sum((A == 1) & (Y == 0))\n",
    "  FN = np.sum((A == 0) & (Y == 1))\n",
    "\n",
    "  precision = TP / (TP + FP) if (TP + FP) > 0 else 0\n",
    "  recall = TP / (TP + FN) if (TP + FN) > 0 else 0\n",
    "  f1_score = 2 * (precision * recall) / (precision + recall) if (precision + recall) > 0 else 0\n",
    "\n",
    "  print(\"F1 Score of the model is : \", round(f1_score, 2))"
   ]
  },
  {
   "cell_type": "code",
   "execution_count": 90,
   "id": "b65c5b1e-1680-4726-8787-efc5fe723f0e",
   "metadata": {},
   "outputs": [
    {
     "name": "stdout",
     "output_type": "stream",
     "text": [
      "Accuracy of the model is :  86.25 %\n",
      "F1 Score of the model is :  0.37\n"
     ]
    }
   ],
   "source": [
    "accuracy(X_te, y_te, W, B)"
   ]
  },
  {
   "cell_type": "code",
   "execution_count": null,
   "id": "b73dab27-dd84-45b6-8a08-bd3b30209cab",
   "metadata": {},
   "outputs": [],
   "source": []
  }
 ],
 "metadata": {
  "kernelspec": {
   "display_name": "Python 3 (ipykernel)",
   "language": "python",
   "name": "python3"
  },
  "language_info": {
   "codemirror_mode": {
    "name": "ipython",
    "version": 3
   },
   "file_extension": ".py",
   "mimetype": "text/x-python",
   "name": "python",
   "nbconvert_exporter": "python",
   "pygments_lexer": "ipython3",
   "version": "3.12.0"
  }
 },
 "nbformat": 4,
 "nbformat_minor": 5
}
