{
  "nbformat": 4,
  "nbformat_minor": 0,
  "metadata": {
    "colab": {
      "provenance": []
    },
    "kernelspec": {
      "name": "python3",
      "display_name": "Python 3"
    },
    "language_info": {
      "name": "python"
    }
  },
  "cells": [
    {
      "cell_type": "code",
      "execution_count": null,
      "metadata": {
        "colab": {
          "base_uri": "https://localhost:8080/"
        },
        "id": "EqXkjAuT_OOa",
        "outputId": "ea8c9e22-3395-4224-f4bf-98e040b09921"
      },
      "outputs": [
        {
          "output_type": "stream",
          "name": "stdout",
          "text": [
            "Logistic Regression Accuracy: 0.903125, F1 Score: 0.4745762711864407\n",
            "K-Nearest Neighbors Accuracy: 0.9, F1 Score: 0.4838709677419355\n",
            "Decision Trees Accuracy: 0.890625, F1 Score: 0.5454545454545455\n",
            "Random Forest Accuracy: 0.934375, F1 Score: 0.6557377049180326\n"
          ]
        }
      ],
      "source": [
        "import pandas as pd\n",
        "from sklearn.model_selection import train_test_split\n",
        "from sklearn.preprocessing import StandardScaler\n",
        "from sklearn.linear_model import LogisticRegression\n",
        "from sklearn.metrics import accuracy_score, f1_score\n",
        "from sklearn.neighbors import KNeighborsClassifier\n",
        "from sklearn.tree import DecisionTreeClassifier\n",
        "from sklearn.ensemble import RandomForestClassifier\n",
        "\n",
        "\n",
        "# Loading the dataset\n",
        "file_path = '/content/winequality-red (1).csv'\n",
        "wine_data = pd.read_csv(file_path)\n",
        "\n",
        "wine_data['good_quality'] = (wine_data['quality'] >= 7).astype(int)\n",
        "\n",
        "\n",
        "wine_data = wine_data.drop('quality', axis=1)\n",
        "\n",
        "\n",
        "X = wine_data.drop('good_quality', axis=1)\n",
        "y = wine_data['good_quality']\n",
        "\n",
        "# Splitting the data into training and testing sets\n",
        "X_train, X_test, y_train, y_test = train_test_split(X, y, test_size=0.2)\n",
        "\n",
        "\n",
        "scaler = StandardScaler()\n",
        "X_train = scaler.fit_transform(X_train)\n",
        "X_test = scaler.transform(X_test)\n",
        "\n",
        "# Creating a Logistic Regression model\n",
        "log_reg_model = LogisticRegression()\n",
        "log_reg_model.fit(X_train, y_train)\n",
        "\n",
        "\n",
        "y_pred = log_reg_model.predict(X_test)\n",
        "\n",
        "\n",
        "accuracy_log_reg = accuracy_score(y_test, y_pred)\n",
        "f1_log_reg = f1_score(y_test, y_pred)\n",
        "\n",
        "# Creating a K-Nearest Neighbors model\n",
        "knn_model = KNeighborsClassifier()\n",
        "knn_model.fit(X_train, y_train)\n",
        "\n",
        "\n",
        "y_pred_knn = knn_model.predict(X_test)\n",
        "\n",
        "\n",
        "accuracy_knn = accuracy_score(y_test, y_pred_knn)\n",
        "f1_knn = f1_score(y_test, y_pred_knn)\n",
        "\n",
        "# Decision Trees model\n",
        "dt_model = DecisionTreeClassifier()\n",
        "dt_model.fit(X_train, y_train)\n",
        "\n",
        "\n",
        "y_pred_dt = dt_model.predict(X_test)\n",
        "\n",
        "\n",
        "accuracy_dt = accuracy_score(y_test, y_pred_dt)\n",
        "f1_dt = f1_score(y_test, y_pred_dt)\n",
        "\n",
        "# Random Forest model\n",
        "rf_model = RandomForestClassifier()\n",
        "rf_model.fit(X_train, y_train)\n",
        "\n",
        "\n",
        "y_pred_rf = rf_model.predict(X_test)\n",
        "\n",
        "\n",
        "accuracy_rf = accuracy_score(y_test, y_pred_rf)\n",
        "f1_rf = f1_score(y_test, y_pred_rf)\n",
        "print(f\"Logistic Regression Accuracy: {accuracy_log_reg}, F1 Score: {f1_log_reg}\")\n",
        "print(f\"K-Nearest Neighbors Accuracy: {accuracy_knn}, F1 Score: {f1_knn}\")\n",
        "print(f\"Decision Trees Accuracy: {accuracy_dt}, F1 Score: {f1_dt}\")\n",
        "print(f\"Random Forest Accuracy: {accuracy_rf}, F1 Score: {f1_rf}\")"
      ]
    }
  ]
}